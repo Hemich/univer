{
 "cells": [
  {
   "cell_type": "markdown",
   "id": "3108c30c",
   "metadata": {},
   "source": [
    "# Основні дані про Йорданію\n",
    "\n",
    "## Загальна інформація\n",
    "- **Назва країни:** Йорданія\n",
    "- **Столиця:** Амман\n",
    "- **Площа:** 89,342 кв. км\n",
    "- **Населення:** приблизно 10,5 мільйонів чоловік\n",
    "- **Мова:** арабська\n",
    "- **Валюта:** Йорданський динар (JOD)\n",
    "- **Часовий пояс:** UTC+2\n",
    "\n",
    "## Географія\n",
    "Йорданія розташована на Близькому Сході та має різноманітну географію, включаючи пустелі та гори.\n",
    "\n",
    "## Культура\n",
    "Культура Йорданії багата і різноманітна, включаючи традиції, гастрономію та мистецтво.\n",
    "\n",
    "### Економіка\n",
    "Економіка Йорданії відома своєю промисловістю та виробництвом сільськогосподарської продукції.\n",
    "\n",
    "#### Прапор\n",
    "Прапор Йорданії має червоний, білий та зелений кольори. Ось його спрощене представлення\n",
    "\n",
    "## Додаткова інформація\n",
    "Для додаткової інформації про Йорданію відвідайте [сторінку на Вікіпедії](https://uk.wikipedia.org/wiki/%D0%99%D0%BE%D1%80%D0%B4%D0%B0%D0%BD%D1%96%D1%8F).\n",
    "\n",
    "| Параметр         | Значення                                 |\n",
    "|------------------|------------------------------------------|\n",
    "| Назва країни     | Йорданія                                 |\n",
    "| Столиця          | Амман                                    |\n",
    "| Площа            | 89,342 кв. км                            |\n",
    "| Населення        | приблизно 10,5 мільйонів чоловік         |\n",
    "| Мова             | арабська                                 |\n",
    "| Валюта           | Йорданський динар (JOD)                  |\n",
    "| Часовий пояс     | UTC+2                                    |2+7"
   ]
  },
  {
   "cell_type": "code",
   "execution_count": 1,
   "id": "ccf7503a",
   "metadata": {},
   "outputs": [
    {
     "data": {
      "text/html": [
       "<svg width=\"100\" height=\"60\">\n",
       "    <rect width=\"100\" height=\"20\" fill=\"red\" />\n",
       "    <rect y=\"20\" width=\"100\" height=\"20\" fill=\"white\" />\n",
       "    <rect y=\"40\" width=\"100\" height=\"20\" fill=\"green\" />\n",
       "</svg>\n"
      ],
      "text/plain": [
       "<IPython.core.display.HTML object>"
      ]
     },
     "metadata": {},
     "output_type": "display_data"
    }
   ],
   "source": [
    "%%HTML\n",
    "<svg width=\"100\" height=\"60\">\n",
    "    <rect width=\"100\" height=\"20\" fill=\"red\" />\n",
    "    <rect y=\"20\" width=\"100\" height=\"20\" fill=\"white\" />\n",
    "    <rect y=\"40\" width=\"100\" height=\"20\" fill=\"green\" />\n",
    "</svg>"
   ]
  },
  {
   "cell_type": "code",
   "execution_count": 9,
   "id": "4ff41f93",
   "metadata": {},
   "outputs": [
    {
     "name": "stdout",
     "output_type": "stream",
     "text": [
      "3, 15\n",
      "[3, 5, 7, 11, 13]\n"
     ]
    }
   ],
   "source": [
    "def task_6(a, b):\n",
    "    def is_prime(num):\n",
    "        if num < 2:\n",
    "            return False\n",
    "        for i in range(2, int(num**0.5) + 1):\n",
    "            if num % i == 0:\n",
    "                return False\n",
    "        return True\n",
    "\n",
    "    if not isinstance(a, int) or not isinstance(b, int):\n",
    "        return \"Потрібно ввести цілі числа!\"\n",
    "\n",
    "    if a < 2:\n",
    "        a = 2\n",
    "\n",
    "    primes = [num for num in range(a, b + 1) if is_prime(num)]\n",
    "    return primes\n",
    "\n",
    "try:\n",
    "    a, b = map(int, input().split(','))\n",
    "    result = task_6(a, b)\n",
    "    print(result)\n",
    "except ValueError:\n",
    "    print(\"Введено неправильний формат чисел!\")"
   ]
  },
  {
   "cell_type": "code",
   "execution_count": 10,
   "id": "3da19afb",
   "metadata": {},
   "outputs": [
    {
     "name": "stdout",
     "output_type": "stream",
     "text": [
      "4, fd\n",
      "Введено неправильний формат чисел!\n"
     ]
    }
   ],
   "source": [
    "def task_6(a, b):\n",
    "    def is_prime(num):\n",
    "        if num < 2:\n",
    "            return False\n",
    "        for i in range(2, int(num**0.5) + 1):\n",
    "            if num % i == 0:\n",
    "                return False\n",
    "        return True\n",
    "\n",
    "    if not isinstance(a, int) or not isinstance(b, int):\n",
    "        return \"Потрібно ввести цілі числа!\"\n",
    "\n",
    "    if a < 2:\n",
    "        a = 2\n",
    "\n",
    "    primes = [num for num in range(a, b + 1) if is_prime(num)]\n",
    "    return primes\n",
    "\n",
    "try:\n",
    "    a, b = map(int, input().split(','))\n",
    "    result = task_6(a, b)\n",
    "    print(result)\n",
    "except ValueError:\n",
    "    print(\"Введено неправильний формат чисел!\")\n",
    "    "
   ]
  },
  {
   "cell_type": "code",
   "execution_count": null,
   "id": "16357e1e",
   "metadata": {},
   "outputs": [],
   "source": []
  }
 ],
 "metadata": {
  "kernelspec": {
   "display_name": "Python 3 (ipykernel)",
   "language": "python",
   "name": "python3"
  },
  "language_info": {
   "codemirror_mode": {
    "name": "ipython",
    "version": 3
   },
   "file_extension": ".py",
   "mimetype": "text/x-python",
   "name": "python",
   "nbconvert_exporter": "python",
   "pygments_lexer": "ipython3",
   "version": "3.11.5"
  }
 },
 "nbformat": 4,
 "nbformat_minor": 5
}
